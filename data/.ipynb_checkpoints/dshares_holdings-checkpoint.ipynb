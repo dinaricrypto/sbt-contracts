{
 "cells": [
  {
   "cell_type": "code",
   "execution_count": 2,
   "id": "7b2221b5-df1a-410d-a4e7-7160e94c2b17",
   "metadata": {},
   "outputs": [],
   "source": [
    "import cryo\n",
    "import polars as pl"
   ]
  },
  {
   "cell_type": "code",
   "execution_count": null,
   "id": "ac0bcb42-1c71-4f9d-b2bf-1c821d3a061b",
   "metadata": {},
   "outputs": [],
   "source": [
    "cryo_kwargs = {\n",
    "    'rpc': 'https://eth-sepolia.g.alchemy.com/v2/LLl706ifbDUsUyA2YMo419OBZrdCVHWf',\n",
    "    'requests_per_second': 2,\n",
    "    'max_concurrent_requests': 1,\n",
    "    'blocks': '3643665:',\n",
    "    'contract': '0xBCf1c387ced4655DdFB19Ea9599B19d4077f202D'\n",
    "}\n",
    "df = cryo.collect('erc20_transfers', cryo_kwargs)\n",
    "df"
   ]
  }
 ],
 "metadata": {
  "kernelspec": {
   "display_name": "Python 3 (ipykernel)",
   "language": "python",
   "name": "python3"
  },
  "language_info": {
   "codemirror_mode": {
    "name": "ipython",
    "version": 3
   },
   "file_extension": ".py",
   "mimetype": "text/x-python",
   "name": "python",
   "nbconvert_exporter": "python",
   "pygments_lexer": "ipython3",
   "version": "3.11.6"
  }
 },
 "nbformat": 4,
 "nbformat_minor": 5
}
